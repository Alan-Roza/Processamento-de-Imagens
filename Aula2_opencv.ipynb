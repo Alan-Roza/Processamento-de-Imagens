{
  "cells": [
    {
      "cell_type": "markdown",
      "metadata": {
        "id": "view-in-github",
        "colab_type": "text"
      },
      "source": [
        "<a href=\"https://colab.research.google.com/github/luadeprataart/Processamento-de-Imagens/blob/main/Aula2_opencv.ipynb\" target=\"_parent\"><img src=\"https://colab.research.google.com/assets/colab-badge.svg\" alt=\"Open In Colab\"/></a>"
      ]
    },
    {
      "cell_type": "markdown",
      "metadata": {
        "id": "hkg6EjcSZuWg"
      },
      "source": [
        "# <center>Centro Universitário Facens<br/></center>\n",
        "<br/>\n",
        "<font size=\"4\"><center><b>Disciplina: Processamento de Imagens</b></center></font>\n",
        "  \n",
        "<font size=\"3\"><center>Prof. Renato Moraes Silva</center></font>\n",
        "<br/>"
      ]
    },
    {
      "cell_type": "markdown",
      "metadata": {
        "id": "FgVxWeH3ZuWn"
      },
      "source": [
        "# <center>Exercício - Introdução à bilioteca OpenCV</center>\n",
        "\n",
        "Neste exercício, são apresentados alguns recursos básicos da biblioteca OpenCV."
      ]
    },
    {
      "cell_type": "markdown",
      "metadata": {
        "id": "DDzLvBUlZuWp"
      },
      "source": [
        "Para instalar a biblioteca OpenCV no sistema operacional Ubuntu, use o comando ```sudo apt-get install python3-opencv```.\n",
        "\n",
        "Além disso, é preciso instalar a biblioteca no Python, por meio do comando ```pip install opencv-python```.\n",
        "\n",
        "Abaixo, iremos importar as bibliotecas que serão usadas."
      ]
    },
    {
      "cell_type": "code",
      "execution_count": 1,
      "metadata": {
        "scrolled": true,
        "id": "8DIQxWTlZuWr"
      },
      "outputs": [],
      "source": [
        "# -*- coding: utf-8 -*-\n",
        "\n",
        "import cv2 \n",
        "import numpy as np\n",
        "import os\n",
        "import urllib.request\n",
        "import matplotlib.pyplot as plt # para plotar as imagens"
      ]
    },
    {
      "cell_type": "markdown",
      "metadata": {
        "id": "mkP2uz2YZuWw"
      },
      "source": [
        "# Importanto uma imagem em tons de cinza\n",
        "\n",
        "Primeiro, iremos fazer o download de uma imagem."
      ]
    },
    {
      "cell_type": "code",
      "execution_count": null,
      "metadata": {
        "id": "L46j4iiCZuWx"
      },
      "outputs": [],
      "source": [
        "pathFolder = 'figs/'\n",
        "\n",
        "# verifica que a pasta existe\n",
        "if not os.path.exists(pathFolder):\n",
        "    # cria a pasta\n",
        "    os.makedirs(pathFolder)\n",
        "\n",
        "url = 'https://i.dailymail.co.uk/i/pix/2012/06/22/article-2163232-13BB4A21000005DC-80_634x472.jpg'\n",
        "\n",
        "urllib.request.urlretrieve(url, pathFolder + \"gatoVaca.png\")  "
      ]
    },
    {
      "cell_type": "markdown",
      "metadata": {
        "id": "n7pC7sNsZuWy"
      },
      "source": [
        "Iremos importar a imagem da pasta figs em tons de cinza. Para isso, é necessário usar a função *imread*, passando o path da imagem e 0 como argumento."
      ]
    },
    {
      "cell_type": "code",
      "execution_count": null,
      "metadata": {
        "id": "wBAg8V-PZuWz"
      },
      "outputs": [],
      "source": [
        "\n",
        "\n",
        "\n",
        "\n",
        "\n"
      ]
    },
    {
      "cell_type": "markdown",
      "metadata": {
        "id": "CWdZ8s3zZuW0"
      },
      "source": [
        "Para mostrar a imagem na tela, podemos usar a função *imshow()* da biblioteca OpenCV. \n",
        "\n",
        "E devemos acrescentar também: \n",
        "\n",
        "```\n",
        "cv2.waitKey(0) # espera até que um tecla seja pressionada\n",
        "cv2.destroyAllWindows() # destrói a janela onde a imagem está sendo exibida\n",
        "```\n",
        "\n",
        "No entanto, exibir a imagem usando OpenCV pode travar o notebook. Portanto, é melhor usar a função imgshow da biblioteca *matplotlib*, passando 'gray', vmin=0 e vmax=255 como argumentos. "
      ]
    },
    {
      "cell_type": "code",
      "execution_count": null,
      "metadata": {
        "id": "NaX9bBcMZuW2"
      },
      "outputs": [],
      "source": [
        "\n",
        "\n",
        "\n"
      ]
    },
    {
      "cell_type": "markdown",
      "metadata": {
        "id": "2mzkrolkZuW3"
      },
      "source": [
        "# Importanto uma imagem em BGR"
      ]
    },
    {
      "cell_type": "markdown",
      "metadata": {
        "id": "t4P0jxa9ZuW4"
      },
      "source": [
        "Agora, iremos importar uma imagem da pasta figs usando cores. É importante notar que a biblioteca OpenCV importa as imagens com o formato BGR. Portanto, para algumas tarefas será necessário converter para RGB, por meio da função *cvtColor*, usando o argumento *cv2.COLOR_BGR2RGB*."
      ]
    },
    {
      "cell_type": "code",
      "execution_count": null,
      "metadata": {
        "id": "JL3BF8hRZuW4"
      },
      "outputs": [],
      "source": [
        "\n",
        "\n",
        "\n",
        "\n"
      ]
    },
    {
      "cell_type": "markdown",
      "metadata": {
        "id": "1g4S15p8ZuW5"
      },
      "source": [
        "Agora, iremos mostrar a imagem na tela usando a função *imshow* da biblioteca matplotlib"
      ]
    },
    {
      "cell_type": "code",
      "execution_count": null,
      "metadata": {
        "id": "6cYi5v6hZuW6"
      },
      "outputs": [],
      "source": [
        "\n",
        "\n",
        "\n"
      ]
    },
    {
      "cell_type": "markdown",
      "metadata": {
        "id": "81_hgrXYZuW7"
      },
      "source": [
        "Vamos modificar a imagem acima, adicionando um retângulo preto de 5x5 pixels a cada 20 pixels."
      ]
    },
    {
      "cell_type": "code",
      "execution_count": null,
      "metadata": {
        "id": "FcvYFsmcZuW8"
      },
      "outputs": [],
      "source": [
        "\n",
        "\n",
        "\n",
        "\n"
      ]
    },
    {
      "cell_type": "markdown",
      "metadata": {
        "id": "5CH7JZLgZuW8"
      },
      "source": [
        "A biblioteca OpenCV também permite salvar uma imagem em arquivo, usando qualquer formato desejado. Para isso, basta usar a função *imwrite*, passando o *path* da imagem, seguido pela variável que contém a imagem. \n",
        "\n",
        "Abaixo, salve a imagem com o nome *gatoVaca_copia.jpg*."
      ]
    },
    {
      "cell_type": "code",
      "execution_count": null,
      "metadata": {
        "id": "M96rl73xZuW9"
      },
      "outputs": [],
      "source": [
        "\n",
        "\n",
        "\n"
      ]
    },
    {
      "cell_type": "markdown",
      "metadata": {
        "id": "m3bRnE85ZuW-"
      },
      "source": [
        "É possível também inserir texto nas imagens usando a função **putText** que possui os seguintes parâmetros:\n",
        "- **img**: imagem\n",
        "- **text**: texto desejado\n",
        "- **org**: coordenadas no formato (x,y) onde o texto deve ser inserido\n",
        "- **fontFace**: o tipo de fonte. Exemplos: FONT_HERSHEY_SIMPLEX, FONT_HERSHEY_PLAIN, FONT_HERSHEY_DUPLEX, etc\n",
        "- **fontScale**: inteiro que indica a escala da fonte e é usado para aumentar ou diminuir a fonte\n",
        "- **thickness** (opcional): espessura das linha\n",
        "- **lineType** (opcional): tipo de linha. Opções: FILLED, LINE_4, LINE_8, LINE_AA\n",
        "- **bottomLeftOrigin** (opcional): o valor False mantém o texto normal, enquanto que o True, inverte o texto"
      ]
    },
    {
      "cell_type": "code",
      "execution_count": null,
      "metadata": {
        "id": "sPcCSlK1ZuW-"
      },
      "outputs": [],
      "source": [
        "\n",
        "\n",
        "\n",
        "\n"
      ]
    },
    {
      "cell_type": "markdown",
      "metadata": {
        "id": "zkw7Ev6gZuW_"
      },
      "source": [
        "## Exercícios\n",
        "\n",
        "**Ex. 1**. Use a imagem em tons de cinza e acrescente uma borda preta ao redor dela usando operações matriciais por meio da biblioteca NumPy. \n",
        "\n",
        "Salve a imagem resultante com o nome *gatoVaca_borda.png* no pasta *figs*."
      ]
    },
    {
      "cell_type": "code",
      "execution_count": null,
      "metadata": {
        "id": "3GETjL-jZuXA"
      },
      "outputs": [],
      "source": [
        "\n",
        "\n",
        "\n",
        "\n",
        "\n"
      ]
    },
    {
      "cell_type": "markdown",
      "metadata": {
        "id": "yS9jdohGZuXA"
      },
      "source": [
        "**Ex. 2**. Usando a imagem em tons de cinza, crie uma nova imagem com zoom na cabeça da vaca. Isto é, recorte a imagem para que sobre apenas a região onde está a cabeça da vaca.\n",
        "\n",
        "Salve a imagem resultante com o nome *gatoVaca_zoom.png* no pasta *figs*."
      ]
    },
    {
      "cell_type": "code",
      "execution_count": null,
      "metadata": {
        "id": "0NuOmIqrZuXB"
      },
      "outputs": [],
      "source": [
        "\n",
        "\n",
        "\n",
        "\n"
      ]
    }
  ],
  "metadata": {
    "kernelspec": {
      "display_name": "Python 3 (ipykernel)",
      "language": "python",
      "name": "python3"
    },
    "language_info": {
      "codemirror_mode": {
        "name": "ipython",
        "version": 3
      },
      "file_extension": ".py",
      "mimetype": "text/x-python",
      "name": "python",
      "nbconvert_exporter": "python",
      "pygments_lexer": "ipython3",
      "version": "3.9.13"
    },
    "vscode": {
      "interpreter": {
        "hash": "d8d3ff3e2b5334ad4397068f2512301b7247a0268b8f631cb00f1cdcbb1f6f82"
      }
    },
    "colab": {
      "provenance": [],
      "include_colab_link": true
    }
  },
  "nbformat": 4,
  "nbformat_minor": 0
}